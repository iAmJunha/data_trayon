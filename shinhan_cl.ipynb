{
 "cells": [
  {
   "cell_type": "markdown",
   "metadata": {},
   "source": [
    "## 신한카드 사용 데이터 통계 분석\n",
    "<p> 신한카드 데이터를 이용하여 지역별 관광 인사이트 도출 </p>\n",
    "<p> 시각화 후 시간이 남는다면, 데이터의 마지막 날짜로부터 3개월치 취급액 예측 </p>\n",
    "\n",
    "1.     Data Cleaning  (결측치, 이상치 처리)\n",
    "2.     Feature Engineering and Variable Selection (통계 상관 분석)\n",
    "3.     Model Selection and Regularization\n",
    "4.     Optimization Processing\n",
    "-"
   ]
  },
  {
   "cell_type": "code",
   "execution_count": 14,
   "metadata": {},
   "outputs": [],
   "source": [
    "import pandas as pd # pandas를 활용하여 가공 예정.\n",
    "import os #"
   ]
  },
  {
   "cell_type": "markdown",
   "metadata": {},
   "source": [
    "### 1.Data Cleaning"
   ]
  },
  {
   "cell_type": "markdown",
   "metadata": {},
   "source": [
    "* data를 가져와서 카운트한다."
   ]
  },
  {
   "cell_type": "markdown",
   "metadata": {},
   "source": [
    "##### 1)일단 가져온다"
   ]
  },
  {
   "cell_type": "code",
   "execution_count": 5,
   "metadata": {},
   "outputs": [],
   "source": [
    "os.chdir(r\"C:\\Users\\jhbea\\python-programming\\gongmo\")"
   ]
  },
  {
   "cell_type": "code",
   "execution_count": 7,
   "metadata": {},
   "outputs": [],
   "source": [
    "df = pd.read_csv('credit_card_data.csv',header='infer',encoding='latin1')"
   ]
  },
  {
   "cell_type": "markdown",
   "metadata": {},
   "source": [
    "* 한글 encoding 해결방법 찾아야함.."
   ]
  },
  {
   "cell_type": "code",
   "execution_count": 9,
   "metadata": {},
   "outputs": [
    {
     "data": {
      "text/plain": [
       "(3888, 26)"
      ]
     },
     "execution_count": 9,
     "metadata": {},
     "output_type": "execute_result"
    }
   ],
   "source": [
    "df.shape"
   ]
  },
  {
   "cell_type": "code",
   "execution_count": 10,
   "metadata": {},
   "outputs": [
    {
     "data": {
      "text/html": [
       "<div>\n",
       "<style scoped>\n",
       "    .dataframe tbody tr th:only-of-type {\n",
       "        vertical-align: middle;\n",
       "    }\n",
       "\n",
       "    .dataframe tbody tr th {\n",
       "        vertical-align: top;\n",
       "    }\n",
       "\n",
       "    .dataframe thead th {\n",
       "        text-align: right;\n",
       "    }\n",
       "</style>\n",
       "<table border=\"1\" class=\"dataframe\">\n",
       "  <thead>\n",
       "    <tr style=\"text-align: right;\">\n",
       "      <th></th>\n",
       "      <th>pop_cd</th>\n",
       "      <th>year</th>\n",
       "      <th>month</th>\n",
       "      <th>avg_score</th>\n",
       "      <th>avg_rat</th>\n",
       "      <th>city</th>\n",
       "      <th>sex</th>\n",
       "      <th>ages</th>\n",
       "      <th>population</th>\n",
       "      <th>num_opencard</th>\n",
       "      <th>...</th>\n",
       "      <th>monthly_installments_loan</th>\n",
       "      <th>monthly_insurance_loan</th>\n",
       "      <th>monthly_sbk_loan</th>\n",
       "      <th>loan_commitment</th>\n",
       "      <th>inst_rep_loanb</th>\n",
       "      <th>ls_rep_loanb</th>\n",
       "      <th>credit_loan</th>\n",
       "      <th>mortgage_loan</th>\n",
       "      <th>credit_card_payment</th>\n",
       "      <th>credit_card_installments_payment</th>\n",
       "    </tr>\n",
       "  </thead>\n",
       "  <tbody>\n",
       "    <tr>\n",
       "      <th>0</th>\n",
       "      <td>L011</td>\n",
       "      <td>2016</td>\n",
       "      <td>1</td>\n",
       "      <td>812</td>\n",
       "      <td>2</td>\n",
       "      <td>¼­¿ï</td>\n",
       "      <td>NaN</td>\n",
       "      <td>10´ë</td>\n",
       "      <td>55000</td>\n",
       "      <td>1.44</td>\n",
       "      <td>...</td>\n",
       "      <td>0</td>\n",
       "      <td>0</td>\n",
       "      <td>0</td>\n",
       "      <td>1120000</td>\n",
       "      <td>8210000</td>\n",
       "      <td>78020000</td>\n",
       "      <td>92170000</td>\n",
       "      <td>87260000</td>\n",
       "      <td>0</td>\n",
       "      <td>0</td>\n",
       "    </tr>\n",
       "    <tr>\n",
       "      <th>1</th>\n",
       "      <td>L011</td>\n",
       "      <td>2016</td>\n",
       "      <td>2</td>\n",
       "      <td>773</td>\n",
       "      <td>4</td>\n",
       "      <td>¼­¿ï</td>\n",
       "      <td>NaN</td>\n",
       "      <td>10´ë</td>\n",
       "      <td>380000</td>\n",
       "      <td>1.71</td>\n",
       "      <td>...</td>\n",
       "      <td>510000</td>\n",
       "      <td>220000</td>\n",
       "      <td>1020000</td>\n",
       "      <td>680000</td>\n",
       "      <td>4660000</td>\n",
       "      <td>23300000</td>\n",
       "      <td>8260000</td>\n",
       "      <td>42410000</td>\n",
       "      <td>4000</td>\n",
       "      <td>1000</td>\n",
       "    </tr>\n",
       "  </tbody>\n",
       "</table>\n",
       "<p>2 rows × 26 columns</p>\n",
       "</div>"
      ],
      "text/plain": [
       "  pop_cd  year  month  avg_score  avg_rat  city  sex  ages  population  \\\n",
       "0   L011  2016      1        812        2  ¼­¿ï  NaN  10´ë       55000   \n",
       "1   L011  2016      2        773        4  ¼­¿ï  NaN  10´ë      380000   \n",
       "\n",
       "   num_opencard  ...  monthly_installments_loan  monthly_insurance_loan  \\\n",
       "0          1.44  ...                          0                       0   \n",
       "1          1.71  ...                     510000                  220000   \n",
       "\n",
       "   monthly_sbk_loan  loan_commitment  inst_rep_loanb  ls_rep_loanb  \\\n",
       "0                 0          1120000         8210000      78020000   \n",
       "1           1020000           680000         4660000      23300000   \n",
       "\n",
       "   credit_loan  mortgage_loan  credit_card_payment  \\\n",
       "0     92170000       87260000                    0   \n",
       "1      8260000       42410000                 4000   \n",
       "\n",
       "   credit_card_installments_payment  \n",
       "0                                 0  \n",
       "1                              1000  \n",
       "\n",
       "[2 rows x 26 columns]"
      ]
     },
     "execution_count": 10,
     "metadata": {},
     "output_type": "execute_result"
    }
   ],
   "source": [
    "df.head(2) #꺼내본다."
   ]
  },
  {
   "cell_type": "markdown",
   "metadata": {},
   "source": [
    "##### 2)다 들어있나 확인"
   ]
  },
  {
   "cell_type": "code",
   "execution_count": 13,
   "metadata": {},
   "outputs": [
    {
     "name": "stdout",
     "output_type": "stream",
     "text": [
      "<class 'pandas.core.frame.DataFrame'>\n",
      "RangeIndex: 3888 entries, 0 to 3887\n",
      "Data columns (total 26 columns):\n",
      "pop_cd                              3888 non-null object\n",
      "year                                3888 non-null int64\n",
      "month                               3888 non-null int64\n",
      "avg_score                           3888 non-null int64\n",
      "avg_rat                             3888 non-null int64\n",
      "city                                3456 non-null object\n",
      "sex                                 432 non-null object\n",
      "ages                                3888 non-null object\n",
      "population                          3888 non-null int64\n",
      "num_opencard                        3888 non-null float64\n",
      "num_usecard                         3888 non-null float64\n",
      "monthly_card_spend                  3888 non-null int64\n",
      "monthly_lc                          3888 non-null int64\n",
      "monthly_loan                        3888 non-null int64\n",
      "monthly_bk_loan                     3888 non-null int64\n",
      "monthly_cd_loan                     3888 non-null int64\n",
      "monthly_installments_loan           3888 non-null int64\n",
      "monthly_insurance_loan              3888 non-null int64\n",
      "monthly_sbk_loan                    3888 non-null int64\n",
      "loan_commitment                     3888 non-null int64\n",
      "inst_rep_loanb                      3888 non-null int64\n",
      "ls_rep_loanb                        3888 non-null int64\n",
      "credit_loan                         3888 non-null int64\n",
      "mortgage_loan                       3888 non-null int64\n",
      "credit_card_payment                 3888 non-null int64\n",
      "credit_card_installments_payment    3888 non-null int64\n",
      "dtypes: float64(2), int64(20), object(4)\n",
      "memory usage: 789.8+ KB\n"
     ]
    }
   ],
   "source": [
    "df.info() #결측치 NA확인을 위해 정보조회 "
   ]
  },
  {
   "cell_type": "markdown",
   "metadata": {},
   "source": [
    "### ->필요사항 \n",
    "\n",
    "* 결측치 처리방법 결정 --> city, sex ---> 데이터분석방향 설정하고 무의미한거면 과감히 drop!"
   ]
  },
  {
   "cell_type": "code",
   "execution_count": null,
   "metadata": {},
   "outputs": [],
   "source": []
  }
 ],
 "metadata": {
  "kernelspec": {
   "display_name": "cuda",
   "language": "python",
   "name": "cuda"
  },
  "language_info": {
   "codemirror_mode": {
    "name": "ipython",
    "version": 3
   },
   "file_extension": ".py",
   "mimetype": "text/x-python",
   "name": "python",
   "nbconvert_exporter": "python",
   "pygments_lexer": "ipython3",
   "version": "3.6.8"
  }
 },
 "nbformat": 4,
 "nbformat_minor": 2
}
